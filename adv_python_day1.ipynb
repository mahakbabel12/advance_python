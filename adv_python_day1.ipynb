{
 "cells": [
  {
   "cell_type": "markdown",
   "id": "0dbe445d-6437-4ece-b6f4-fec271788626",
   "metadata": {},
   "source": [
    "# Numpy"
   ]
  },
  {
   "cell_type": "code",
   "execution_count": 1,
   "id": "b2395052-9d53-47b7-87c1-3d2349e3706d",
   "metadata": {},
   "outputs": [],
   "source": [
    "# Numpy \n",
    "# numpy is an opensource library that is used for scientific calculations\n",
    "\n",
    "# Why Numpy is bettter than List?\n",
    "# 1.Numpy has more advance functions as compare to list.\n",
    "# 2.Numpy is Homogeneous(one type of datatype) data type while List is heterogenous datatype.\n",
    "# 3.Numpy takes less memory as compare to List.\n",
    "# 4.Numpy has less execution time as compare to List."
   ]
  },
  {
   "cell_type": "code",
   "execution_count": 5,
   "id": "ed9b7c3b-4111-42cc-adf9-3f74b4d5d506",
   "metadata": {},
   "outputs": [
    {
     "name": "stdout",
     "output_type": "stream",
     "text": [
      "Requirement already satisfied: numpy in c:\\users\\mahak\\anaconda3\\lib\\site-packages (1.26.4)\n"
     ]
    }
   ],
   "source": [
    "!pip install numpy"
   ]
  },
  {
   "cell_type": "code",
   "execution_count": 7,
   "id": "22b97911-4568-4d0c-8d86-adc38689084d",
   "metadata": {},
   "outputs": [],
   "source": [
    "import numpy as np"
   ]
  },
  {
   "cell_type": "code",
   "execution_count": 9,
   "id": "de6e42f8-5cae-45b1-a4e6-b3ff02b7326e",
   "metadata": {},
   "outputs": [
    {
     "data": {
      "text/plain": [
       "list"
      ]
     },
     "execution_count": 9,
     "metadata": {},
     "output_type": "execute_result"
    }
   ],
   "source": [
    "a=[1,2,3]\n",
    "type(a)"
   ]
  },
  {
   "cell_type": "code",
   "execution_count": 11,
   "id": "af32964a-9b9b-4b3f-b6e7-1b7f35bab311",
   "metadata": {},
   "outputs": [
    {
     "data": {
      "text/plain": [
       "array([1, 2, 3])"
      ]
     },
     "execution_count": 11,
     "metadata": {},
     "output_type": "execute_result"
    }
   ],
   "source": [
    "b=np.array(a)\n",
    "b"
   ]
  },
  {
   "cell_type": "code",
   "execution_count": 13,
   "id": "8e30cee3-2550-4293-bd76-7187605c27cb",
   "metadata": {},
   "outputs": [
    {
     "data": {
      "text/plain": [
       "array([[1, 2, 3],\n",
       "       [6, 5, 8],\n",
       "       [7, 8, 9]])"
      ]
     },
     "execution_count": 13,
     "metadata": {},
     "output_type": "execute_result"
    }
   ],
   "source": [
    "a=[[1,2,3],[6,5,8],[7,8,9]]\n",
    "b=np.array(a)\n",
    "b"
   ]
  },
  {
   "cell_type": "code",
   "execution_count": 15,
   "id": "1698bce5-3868-4364-9325-d4a0ccc1dd1a",
   "metadata": {},
   "outputs": [
    {
     "name": "stdout",
     "output_type": "stream",
     "text": [
      "total rows and columns: (3, 3)\n"
     ]
    }
   ],
   "source": [
    "print(\"total rows and columns:\", b.shape)"
   ]
  },
  {
   "cell_type": "code",
   "execution_count": 17,
   "id": "813a0629-91c6-492a-b4db-c863f09a9529",
   "metadata": {},
   "outputs": [
    {
     "name": "stdout",
     "output_type": "stream",
     "text": [
      "total Elements: 9\n"
     ]
    }
   ],
   "source": [
    "print(\"total Elements:\" , b.size)"
   ]
  },
  {
   "cell_type": "code",
   "execution_count": 19,
   "id": "4223731b-084a-48e2-86a1-a98e2a412371",
   "metadata": {},
   "outputs": [
    {
     "name": "stdout",
     "output_type": "stream",
     "text": [
      "Dimension of an array: 2\n"
     ]
    }
   ],
   "source": [
    "print(\"Dimension of an array:\" , b.ndim)"
   ]
  },
  {
   "cell_type": "markdown",
   "id": "1ca7383c-77e9-4172-bfc7-4861e7581577",
   "metadata": {},
   "source": [
    "# how can we create a user defined array?"
   ]
  },
  {
   "cell_type": "code",
   "execution_count": 22,
   "id": "bab35061-1f86-44c2-9725-368dd025b5c7",
   "metadata": {},
   "outputs": [
    {
     "name": "stdin",
     "output_type": "stream",
     "text": [
      "enter size 3\n",
      "enter item: 23\n",
      "enter item: 45\n",
      "enter item: 67\n"
     ]
    },
    {
     "data": {
      "text/plain": [
       "array([23, 45, 67])"
      ]
     },
     "execution_count": 22,
     "metadata": {},
     "output_type": "execute_result"
    }
   ],
   "source": [
    "a=[]\n",
    "size=int(input(\"enter size\"))\n",
    "for i in range(size):\n",
    "    val=int(input(\"enter item:\"))\n",
    "    a.append(val)\n",
    "b=np.array(a)\n",
    "b"
   ]
  },
  {
   "cell_type": "code",
   "execution_count": 24,
   "id": "0af58278-c99b-4040-9178-95816f772c5d",
   "metadata": {},
   "outputs": [
    {
     "data": {
      "text/plain": [
       "numpy.ndarray"
      ]
     },
     "execution_count": 24,
     "metadata": {},
     "output_type": "execute_result"
    }
   ],
   "source": [
    "type(b)"
   ]
  },
  {
   "cell_type": "code",
   "execution_count": null,
   "id": "1222363d-2d4d-40df-a20b-5c06f81b95c5",
   "metadata": {},
   "outputs": [],
   "source": [
    "'''\n",
    "1.Matrix--->rows,columns\n",
    "2.In matrix-->n(rows)=no.of(columns)--->Symmetric Matrix\n",
    "3.In matrix n(rows)!=n(columns)--->Asymmetric Matrix\n",
    "4.Digonal Elements--->[(1,1),(2,2),(3,3),......,(n,n)]\n",
    "5.Images---->pixels--->(0-255)pixel---->normalize---->(0-1)\n",
    "6.Optimization--->staring weights(m),bias(b) ramdomly selsct--->Numpy\n",
    "functions.\n",
    "'''"
   ]
  },
  {
   "cell_type": "markdown",
   "id": "8a7afd7b-23e8-43f4-b836-7c26c49e8c63",
   "metadata": {},
   "source": [
    "# Predefined Functions in Numpy"
   ]
  },
  {
   "cell_type": "code",
   "execution_count": 32,
   "id": "865ff83a-124b-4a57-b46b-b281c8f8bf57",
   "metadata": {},
   "outputs": [],
   "source": [
    "#(1).zeros:it will create an array in which all the elements are 0."
   ]
  },
  {
   "cell_type": "code",
   "execution_count": 36,
   "id": "9931e3af-3e8b-4650-ae9a-67fc0b77a894",
   "metadata": {},
   "outputs": [
    {
     "data": {
      "text/plain": [
       "array([0., 0., 0.])"
      ]
     },
     "execution_count": 36,
     "metadata": {},
     "output_type": "execute_result"
    }
   ],
   "source": [
    "a=np.zeros(3)\n",
    "a"
   ]
  },
  {
   "cell_type": "code",
   "execution_count": 40,
   "id": "7efa0389-f8f3-4177-8b9a-d5f7eb921fa9",
   "metadata": {},
   "outputs": [
    {
     "data": {
      "text/plain": [
       "array([[0., 0., 0.],\n",
       "       [0., 0., 0.]])"
      ]
     },
     "execution_count": 40,
     "metadata": {},
     "output_type": "execute_result"
    }
   ],
   "source": [
    "b=np.zeros((2,3))\n",
    "b"
   ]
  },
  {
   "cell_type": "code",
   "execution_count": 1,
   "id": "1af8d252-2cb0-4b1b-b316-4d734f24bc89",
   "metadata": {},
   "outputs": [],
   "source": [
    "#(2.)ones()--->it will create an array in which all the elements are 1."
   ]
  },
  {
   "cell_type": "code",
   "execution_count": 10,
   "id": "da86d85c-5223-408a-8998-947961dbd221",
   "metadata": {},
   "outputs": [
    {
     "name": "stdout",
     "output_type": "stream",
     "text": [
      "Requirement already satisfied: numpy in c:\\users\\mahak\\anaconda3\\lib\\site-packages (1.26.4)\n"
     ]
    }
   ],
   "source": [
    "!pip install numpy"
   ]
  },
  {
   "cell_type": "code",
   "execution_count": 12,
   "id": "7848eadf-5aff-4188-a84f-795a14582a36",
   "metadata": {},
   "outputs": [],
   "source": [
    "import numpy as np"
   ]
  },
  {
   "cell_type": "code",
   "execution_count": 20,
   "id": "58fc0faa-b52e-478e-92cb-322fc195e45c",
   "metadata": {},
   "outputs": [
    {
     "data": {
      "text/plain": [
       "array([1., 1., 1.])"
      ]
     },
     "execution_count": 20,
     "metadata": {},
     "output_type": "execute_result"
    }
   ],
   "source": [
    "a=np.ones(3)\n",
    "a"
   ]
  },
  {
   "cell_type": "code",
   "execution_count": 14,
   "id": "500b6ade-2398-460e-8a8f-819e85a1471e",
   "metadata": {},
   "outputs": [
    {
     "data": {
      "text/plain": [
       "array([[1., 1., 1.],\n",
       "       [1., 1., 1.]])"
      ]
     },
     "execution_count": 14,
     "metadata": {},
     "output_type": "execute_result"
    }
   ],
   "source": [
    "b=np.ones((2,3))\n",
    "b"
   ]
  },
  {
   "cell_type": "code",
   "execution_count": 22,
   "id": "dc37a8e0-086b-4bbf-bcea-4550bd1cd32c",
   "metadata": {},
   "outputs": [],
   "source": [
    "#(3.)eye()---->it will create an array in which diagonal values wil be 1 and rest all are 0."
   ]
  },
  {
   "cell_type": "code",
   "execution_count": 24,
   "id": "c33bccc1-406b-4db5-b4bb-5ad731868f4d",
   "metadata": {},
   "outputs": [
    {
     "data": {
      "text/plain": [
       "array([[1., 0., 0., 0.],\n",
       "       [0., 1., 0., 0.],\n",
       "       [0., 0., 1., 0.]])"
      ]
     },
     "execution_count": 24,
     "metadata": {},
     "output_type": "execute_result"
    }
   ],
   "source": [
    "np.eye(3,4)   #Asymmetric Matrix"
   ]
  },
  {
   "cell_type": "code",
   "execution_count": 26,
   "id": "0c89b847-53fb-458f-a900-c18d0cf12785",
   "metadata": {},
   "outputs": [
    {
     "data": {
      "text/plain": [
       "array([[1., 0., 0.],\n",
       "       [0., 1., 0.],\n",
       "       [0., 0., 1.]])"
      ]
     },
     "execution_count": 26,
     "metadata": {},
     "output_type": "execute_result"
    }
   ],
   "source": [
    "np.eye(3)   #Symmetric Matrix"
   ]
  },
  {
   "cell_type": "code",
   "execution_count": 28,
   "id": "80c002c4-b18d-4fda-8bce-4b093eca388e",
   "metadata": {},
   "outputs": [],
   "source": [
    "#(4.) diag()--->using diag(),we can pass our custom array on diagonal position."
   ]
  },
  {
   "cell_type": "code",
   "execution_count": 30,
   "id": "16ccc266-762f-4794-ba33-5bfd845e2e5a",
   "metadata": {},
   "outputs": [
    {
     "data": {
      "text/plain": [
       "array([[ 1,  0,  0,  0],\n",
       "       [ 0,  2,  0,  0],\n",
       "       [ 0,  0, 56,  0],\n",
       "       [ 0,  0,  0, 89]])"
      ]
     },
     "execution_count": 30,
     "metadata": {},
     "output_type": "execute_result"
    }
   ],
   "source": [
    "a=np.diag([1,2,56,89])\n",
    "a"
   ]
  },
  {
   "cell_type": "code",
   "execution_count": 32,
   "id": "11455457-3746-4d4c-a48c-f91a92607217",
   "metadata": {},
   "outputs": [],
   "source": [
    "#(5.) Random Module\n",
    "#(a)Randint(min_range,max_range,total_numbers)"
   ]
  },
  {
   "cell_type": "code",
   "execution_count": 34,
   "id": "e988a730-28b0-4c8a-8125-635cec530327",
   "metadata": {},
   "outputs": [
    {
     "data": {
      "text/plain": [
       "array([5, 1, 4, 9])"
      ]
     },
     "execution_count": 34,
     "metadata": {},
     "output_type": "execute_result"
    }
   ],
   "source": [
    "np.random.randint(1,10,4)"
   ]
  },
  {
   "cell_type": "code",
   "execution_count": 40,
   "id": "298e6991-03a2-49f0-a4cd-bcdf7b810633",
   "metadata": {},
   "outputs": [
    {
     "data": {
      "text/plain": [
       "array([0.53188288, 0.36323878, 0.70975879, 0.56142794, 0.2434867 ])"
      ]
     },
     "execution_count": 40,
     "metadata": {},
     "output_type": "execute_result"
    }
   ],
   "source": [
    "a=np.random.rand(5)\n",
    "a"
   ]
  },
  {
   "cell_type": "code",
   "execution_count": 42,
   "id": "2220c388-c311-4cc5-9582-27c6ed6ca9b4",
   "metadata": {},
   "outputs": [],
   "source": [
    "#seed()--->it will fix the data when it is generated."
   ]
  },
  {
   "cell_type": "code",
   "execution_count": 48,
   "id": "795f258f-0748-435a-ba21-444385566275",
   "metadata": {},
   "outputs": [
    {
     "data": {
      "text/plain": [
       "array([1, 2, 8])"
      ]
     },
     "execution_count": 48,
     "metadata": {},
     "output_type": "execute_result"
    }
   ],
   "source": [
    "np.random.seed(11)  #any random value in the bracket to fix the data\n",
    "a=np.random.randint(1,10,3)\n",
    "a"
   ]
  },
  {
   "cell_type": "markdown",
   "id": "c4d8a5e7-d89a-43ea-b836-4996b1f9b3b5",
   "metadata": {},
   "source": [
    "# View vs Copy"
   ]
  },
  {
   "cell_type": "code",
   "execution_count": 53,
   "id": "ee0fc725-b2d1-403e-9966-e369de2e70cc",
   "metadata": {},
   "outputs": [
    {
     "data": {
      "text/plain": [
       "array([30, 40, 50])"
      ]
     },
     "execution_count": 53,
     "metadata": {},
     "output_type": "execute_result"
    }
   ],
   "source": [
    "a=np.array([10,20,30,40,50,60,70,80])\n",
    "b=a[2:5]\n",
    "b"
   ]
  },
  {
   "cell_type": "code",
   "execution_count": 63,
   "id": "188a2165-71a3-4681-a8f3-a4cb429b1478",
   "metadata": {},
   "outputs": [
    {
     "data": {
      "text/plain": [
       "array([0, 0, 0])"
      ]
     },
     "execution_count": 63,
     "metadata": {},
     "output_type": "execute_result"
    }
   ],
   "source": [
    "a=np.array([10,20,30,40,50,60,70,80])\n",
    "b=a[2:5]\n",
    "b[:]=0\n",
    "b\n"
   ]
  },
  {
   "cell_type": "code",
   "execution_count": 65,
   "id": "7fd510bb-5127-434c-b70d-d71d77c96afa",
   "metadata": {},
   "outputs": [
    {
     "data": {
      "text/plain": [
       "array([10, 20,  0,  0,  0, 60, 70, 80])"
      ]
     },
     "execution_count": 65,
     "metadata": {},
     "output_type": "execute_result"
    }
   ],
   "source": [
    "a=np.array([10,20,30,40,50,60,70,80])   #View-->original data me bhi change hojata hai\n",
    "b=a[2:5]\n",
    "b[:]=0\n",
    "b\n",
    "a"
   ]
  },
  {
   "cell_type": "code",
   "execution_count": 69,
   "id": "e076c473-329d-427d-a1a2-b389cf012e3c",
   "metadata": {},
   "outputs": [
    {
     "data": {
      "text/plain": [
       "array([10, 20, 30, 40, 50, 60, 70, 80])"
      ]
     },
     "execution_count": 69,
     "metadata": {},
     "output_type": "execute_result"
    }
   ],
   "source": [
    "a=np.array([10,20,30,40,50,60,70,80])  #copy--->original data me change nhi hota hai\n",
    "b=a[2:5].copy()\n",
    "b[:]=0\n",
    "b\n",
    "a"
   ]
  },
  {
   "cell_type": "markdown",
   "id": "971e95ef-cbae-477e-83ac-0daf1c06a609",
   "metadata": {},
   "source": [
    "# Reshaping the Array"
   ]
  },
  {
   "cell_type": "code",
   "execution_count": 72,
   "id": "4d934101-4735-45c7-a62f-33f4601955c5",
   "metadata": {},
   "outputs": [],
   "source": [
    "#n(rows)*n(columns)=n(total_elements)"
   ]
  },
  {
   "cell_type": "code",
   "execution_count": 74,
   "id": "45bed44b-3a4c-47e5-beb2-c753972b9376",
   "metadata": {},
   "outputs": [
    {
     "data": {
      "text/plain": [
       "array([14, 77, 34, 72, 83, 25, 93, 49, 33, 46,  5, 35])"
      ]
     },
     "execution_count": 74,
     "metadata": {},
     "output_type": "execute_result"
    }
   ],
   "source": [
    "a=np.random.randint(1,100,12)\n",
    "a"
   ]
  },
  {
   "cell_type": "code",
   "execution_count": null,
   "id": "6a250aea-8acc-482e-ae1f-3d90478bc5de",
   "metadata": {},
   "outputs": [],
   "source": [
    "'''\n",
    "12--->\n",
    "1*12,12*1\n",
    "2*6,6*2\n",
    "3*4,4*3\n",
    "'''"
   ]
  },
  {
   "cell_type": "code",
   "execution_count": 76,
   "id": "31ffc8a7-85c8-4b4d-ad88-94af1c827dcd",
   "metadata": {},
   "outputs": [
    {
     "data": {
      "text/plain": [
       "array([[14, 77, 34, 72, 83, 25],\n",
       "       [93, 49, 33, 46,  5, 35]])"
      ]
     },
     "execution_count": 76,
     "metadata": {},
     "output_type": "execute_result"
    }
   ],
   "source": [
    "a.reshape(2,6)"
   ]
  },
  {
   "cell_type": "code",
   "execution_count": 80,
   "id": "ff3120d9-1e1e-44a8-8b05-6124ba620006",
   "metadata": {},
   "outputs": [
    {
     "data": {
      "text/plain": [
       "array([[14, 77],\n",
       "       [34, 72],\n",
       "       [83, 25],\n",
       "       [93, 49],\n",
       "       [33, 46],\n",
       "       [ 5, 35]])"
      ]
     },
     "execution_count": 80,
     "metadata": {},
     "output_type": "execute_result"
    }
   ],
   "source": [
    "a.reshape(6,2)\n"
   ]
  },
  {
   "cell_type": "code",
   "execution_count": 82,
   "id": "05b907b2-8f05-4499-9b00-5ff1492526b2",
   "metadata": {},
   "outputs": [
    {
     "data": {
      "text/plain": [
       "array([[14, 77, 34, 72],\n",
       "       [83, 25, 93, 49],\n",
       "       [33, 46,  5, 35]])"
      ]
     },
     "execution_count": 82,
     "metadata": {},
     "output_type": "execute_result"
    }
   ],
   "source": [
    "a.reshape(3,4)"
   ]
  },
  {
   "cell_type": "code",
   "execution_count": 86,
   "id": "f501f33a-76c5-469c-9e10-52cfe2d62128",
   "metadata": {},
   "outputs": [],
   "source": [
    "#error\n",
    "# a.reshape(5,2)   #5*2=10 != no.of elements(12)"
   ]
  },
  {
   "cell_type": "code",
   "execution_count": 88,
   "id": "3b92a3d2-fa55-488b-b625-98a8f0682028",
   "metadata": {},
   "outputs": [],
   "source": [
    "#1-60 bet total_36 elements"
   ]
  },
  {
   "cell_type": "code",
   "execution_count": 90,
   "id": "a9d19ba4-9a5e-4b6d-958c-07cd352fc09b",
   "metadata": {},
   "outputs": [
    {
     "data": {
      "text/plain": [
       "array([13,  2, 11, 38, 54, 40, 21, 18, 28, 25, 57, 18,  4,  7, 44, 51, 51,\n",
       "        1, 16, 33, 24, 28,  7, 26, 44, 11, 58, 28, 45, 54, 15,  8, 56, 16,\n",
       "        1, 41])"
      ]
     },
     "execution_count": 90,
     "metadata": {},
     "output_type": "execute_result"
    }
   ],
   "source": [
    "a=np.random.randint(1,60,36)\n",
    "a"
   ]
  },
  {
   "cell_type": "code",
   "execution_count": 92,
   "id": "7e95a416-0846-4f5b-a03a-9a90a2c79e86",
   "metadata": {},
   "outputs": [
    {
     "data": {
      "text/plain": [
       "array([[13,  2, 11, 38, 54, 40],\n",
       "       [21, 18, 28, 25, 57, 18],\n",
       "       [ 4,  7, 44, 51, 51,  1],\n",
       "       [16, 33, 24, 28,  7, 26],\n",
       "       [44, 11, 58, 28, 45, 54],\n",
       "       [15,  8, 56, 16,  1, 41]])"
      ]
     },
     "execution_count": 92,
     "metadata": {},
     "output_type": "execute_result"
    }
   ],
   "source": [
    "a.reshape(6,6)"
   ]
  },
  {
   "cell_type": "code",
   "execution_count": 94,
   "id": "edb285dd-109c-40e6-9ccf-a6d08891eba0",
   "metadata": {},
   "outputs": [
    {
     "data": {
      "text/plain": [
       "array([[13,  2, 11],\n",
       "       [38, 54, 40],\n",
       "       [21, 18, 28],\n",
       "       [25, 57, 18],\n",
       "       [ 4,  7, 44],\n",
       "       [51, 51,  1],\n",
       "       [16, 33, 24],\n",
       "       [28,  7, 26],\n",
       "       [44, 11, 58],\n",
       "       [28, 45, 54],\n",
       "       [15,  8, 56],\n",
       "       [16,  1, 41]])"
      ]
     },
     "execution_count": 94,
     "metadata": {},
     "output_type": "execute_result"
    }
   ],
   "source": [
    "a.reshape(12,3)"
   ]
  },
  {
   "cell_type": "markdown",
   "id": "cc08f693-b795-45cf-8145-b8af7ce967d2",
   "metadata": {},
   "source": [
    "# Conditional Selection in Numpy"
   ]
  },
  {
   "cell_type": "code",
   "execution_count": 99,
   "id": "f141212e-45bc-44db-a8dc-1cce87165de6",
   "metadata": {},
   "outputs": [
    {
     "data": {
      "text/plain": [
       "array([ 1,  2,  3,  4,  5,  6,  7,  8,  9, 10, 11, 12, 13, 14, 15])"
      ]
     },
     "execution_count": 99,
     "metadata": {},
     "output_type": "execute_result"
    }
   ],
   "source": [
    "a=np.arange(1,16)\n",
    "a"
   ]
  },
  {
   "cell_type": "code",
   "execution_count": 101,
   "id": "d7743ffe-0d6a-4406-8ac8-13f2567f17e5",
   "metadata": {},
   "outputs": [
    {
     "data": {
      "text/plain": [
       "array([False, False, False, False, False, False, False, False, False,\n",
       "       False,  True,  True,  True,  True,  True])"
      ]
     },
     "execution_count": 101,
     "metadata": {},
     "output_type": "execute_result"
    }
   ],
   "source": [
    "a>10"
   ]
  },
  {
   "cell_type": "code",
   "execution_count": 103,
   "id": "79af10c9-9d95-4fba-ad02-a3d6a517c317",
   "metadata": {},
   "outputs": [
    {
     "data": {
      "text/plain": [
       "array([11, 12, 13, 14, 15])"
      ]
     },
     "execution_count": 103,
     "metadata": {},
     "output_type": "execute_result"
    }
   ],
   "source": [
    "b=a>10\n",
    "a[b]"
   ]
  },
  {
   "cell_type": "code",
   "execution_count": 105,
   "id": "a1e51e40-3a40-47e6-affb-d44450a0141a",
   "metadata": {},
   "outputs": [
    {
     "data": {
      "text/plain": [
       "array([ 2,  4,  6,  8, 10, 12, 14])"
      ]
     },
     "execution_count": 105,
     "metadata": {},
     "output_type": "execute_result"
    }
   ],
   "source": [
    "a[a%2==0]"
   ]
  },
  {
   "cell_type": "code",
   "execution_count": 107,
   "id": "2ba763c3-5257-43ef-9565-6006c3965d76",
   "metadata": {},
   "outputs": [
    {
     "data": {
      "text/plain": [
       "array([[1, 2],\n",
       "       [3, 4]])"
      ]
     },
     "execution_count": 107,
     "metadata": {},
     "output_type": "execute_result"
    }
   ],
   "source": [
    "a=np.arange(1,5).reshape(2,2)\n",
    "a"
   ]
  },
  {
   "cell_type": "code",
   "execution_count": 109,
   "id": "2a599a29-21a9-4a88-a12f-4a79ba377a3f",
   "metadata": {},
   "outputs": [
    {
     "data": {
      "text/plain": [
       "array([[5, 6],\n",
       "       [7, 8]])"
      ]
     },
     "execution_count": 109,
     "metadata": {},
     "output_type": "execute_result"
    }
   ],
   "source": [
    "b=np.arange(5,9).reshape(2,2)\n",
    "b"
   ]
  },
  {
   "cell_type": "code",
   "execution_count": 111,
   "id": "6102624d-2858-4dbc-94e3-63d003b3b26d",
   "metadata": {},
   "outputs": [
    {
     "data": {
      "text/plain": [
       "array([[ 6,  8],\n",
       "       [10, 12]])"
      ]
     },
     "execution_count": 111,
     "metadata": {},
     "output_type": "execute_result"
    }
   ],
   "source": [
    "a+b"
   ]
  },
  {
   "cell_type": "code",
   "execution_count": 113,
   "id": "97d096aa-f94f-496c-906d-060cfb154bdd",
   "metadata": {},
   "outputs": [
    {
     "data": {
      "text/plain": [
       "array([[-4, -4],\n",
       "       [-4, -4]])"
      ]
     },
     "execution_count": 113,
     "metadata": {},
     "output_type": "execute_result"
    }
   ],
   "source": [
    "a-b"
   ]
  },
  {
   "cell_type": "code",
   "execution_count": 115,
   "id": "001cd7fe-ba9f-41c1-88d8-75ae79e80fe6",
   "metadata": {},
   "outputs": [
    {
     "data": {
      "text/plain": [
       "array([[19, 22],\n",
       "       [43, 50]])"
      ]
     },
     "execution_count": 115,
     "metadata": {},
     "output_type": "execute_result"
    }
   ],
   "source": [
    "a.dot(b)   #for multiplication"
   ]
  },
  {
   "cell_type": "code",
   "execution_count": 1,
   "id": "749d3778-5046-4770-8ede-75320e9cff07",
   "metadata": {},
   "outputs": [],
   "source": [
    "#(6.) linespace--->it will create an array in which gap of two values will be equal."
   ]
  },
  {
   "cell_type": "code",
   "execution_count": 5,
   "id": "fce45fa9-f0cf-4a6e-8b56-3f6e106d15fe",
   "metadata": {},
   "outputs": [
    {
     "name": "stdout",
     "output_type": "stream",
     "text": [
      "Requirement already satisfied: numpy in c:\\users\\mahak\\anaconda3\\lib\\site-packages (1.26.4)\n"
     ]
    }
   ],
   "source": [
    "!pip install numpy"
   ]
  },
  {
   "cell_type": "code",
   "execution_count": 7,
   "id": "2dd97cc0-ca10-4134-8214-301b5d3ec6b3",
   "metadata": {},
   "outputs": [],
   "source": [
    "import numpy as np"
   ]
  },
  {
   "cell_type": "code",
   "execution_count": 11,
   "id": "5d1aae04-756b-4be1-aa33-2215621f5d4a",
   "metadata": {},
   "outputs": [
    {
     "data": {
      "text/plain": [
       "array([1.  , 1.25, 1.5 , 1.75, 2.  ])"
      ]
     },
     "execution_count": 11,
     "metadata": {},
     "output_type": "execute_result"
    }
   ],
   "source": [
    "a= np.linspace(1,2,5)\n",
    "a"
   ]
  },
  {
   "cell_type": "code",
   "execution_count": 13,
   "id": "1467c9ad-c779-4c7e-a721-90599398b1b6",
   "metadata": {},
   "outputs": [],
   "source": [
    "# (7.)unique()---->it will create an array in which we have original values.\n",
    "#it will return 3 arrays.\n",
    "#1.arr : using unique values of array.\n",
    "#2.return_index=True"
   ]
  },
  {
   "cell_type": "code",
   "execution_count": 15,
   "id": "04ff7e8c-a2a9-4426-bf49-d5922a66e7c7",
   "metadata": {},
   "outputs": [],
   "source": [
    "#np.unique(arr , return_index=True,return_counts= True)"
   ]
  },
  {
   "cell_type": "code",
   "execution_count": 17,
   "id": "c519e6a3-2374-4dbb-91d5-b074c27732d1",
   "metadata": {},
   "outputs": [
    {
     "data": {
      "text/plain": [
       "(array([1, 2, 3, 4, 5, 6, 7, 9]),\n",
       " array([ 0,  1,  4,  5,  7,  9, 10, 14], dtype=int64),\n",
       " array([1, 3, 2, 2, 1, 3, 2, 1], dtype=int64))"
      ]
     },
     "execution_count": 17,
     "metadata": {},
     "output_type": "execute_result"
    }
   ],
   "source": [
    "a=np.array([1,2,2,2,3,4,3,5,4,6,7,6,6,7,9])\n",
    "np.unique(a, return_index=True, return_counts=True)"
   ]
  },
  {
   "cell_type": "code",
   "execution_count": 19,
   "id": "1047465d-e0c0-4860-9567-c983d2bb8d18",
   "metadata": {},
   "outputs": [
    {
     "data": {
      "text/plain": [
       "array([[5, 3, 5],\n",
       "       [1, 7, 8],\n",
       "       [2, 2, 2]])"
      ]
     },
     "execution_count": 19,
     "metadata": {},
     "output_type": "execute_result"
    }
   ],
   "source": [
    "a=np.random.randint(1,10,9).reshape(3,3)\n",
    "a"
   ]
  },
  {
   "cell_type": "code",
   "execution_count": 25,
   "id": "a30bf6f9-1dd4-483f-815a-caf3ced568b3",
   "metadata": {},
   "outputs": [
    {
     "data": {
      "text/plain": [
       "array([ 8, 12, 15])"
      ]
     },
     "execution_count": 25,
     "metadata": {},
     "output_type": "execute_result"
    }
   ],
   "source": [
    "np.sum(a,axis=0)"
   ]
  },
  {
   "cell_type": "code",
   "execution_count": 27,
   "id": "66f6dc70-5b81-4e29-9af0-44591175ada5",
   "metadata": {},
   "outputs": [
    {
     "data": {
      "text/plain": [
       "array([13, 16,  6])"
      ]
     },
     "execution_count": 27,
     "metadata": {},
     "output_type": "execute_result"
    }
   ],
   "source": [
    "np.sum(a,axis=1)"
   ]
  },
  {
   "cell_type": "markdown",
   "id": "b2bd6ab9-3bee-4818-9395-d585e596270e",
   "metadata": {},
   "source": [
    "# Hstack and Vstack"
   ]
  },
  {
   "cell_type": "code",
   "execution_count": 30,
   "id": "289186ce-98ef-4a3b-911d-33c3d3e493eb",
   "metadata": {},
   "outputs": [
    {
     "data": {
      "text/plain": [
       "array([1, 2, 3, 4])"
      ]
     },
     "execution_count": 30,
     "metadata": {},
     "output_type": "execute_result"
    }
   ],
   "source": [
    "a=np.arange(1,5)\n",
    "a"
   ]
  },
  {
   "cell_type": "code",
   "execution_count": 34,
   "id": "88310e74-d92f-441f-8692-e2aa9de7c5c0",
   "metadata": {},
   "outputs": [
    {
     "data": {
      "text/plain": [
       "array([5, 6, 7, 8])"
      ]
     },
     "execution_count": 34,
     "metadata": {},
     "output_type": "execute_result"
    }
   ],
   "source": [
    "b=np.arange(5,9)\n",
    "b"
   ]
  },
  {
   "cell_type": "code",
   "execution_count": 36,
   "id": "fe68f713-e193-490b-89e6-56c541225f81",
   "metadata": {},
   "outputs": [
    {
     "data": {
      "text/plain": [
       "array([ 9, 10, 11, 12])"
      ]
     },
     "execution_count": 36,
     "metadata": {},
     "output_type": "execute_result"
    }
   ],
   "source": [
    "c=np.arange(9,13)\n",
    "c"
   ]
  },
  {
   "cell_type": "code",
   "execution_count": 38,
   "id": "8e6a8faf-f092-4207-8e77-a47c98c2b6b5",
   "metadata": {},
   "outputs": [
    {
     "data": {
      "text/plain": [
       "array([ 1,  2,  3,  4,  5,  6,  7,  8,  9, 10, 11, 12])"
      ]
     },
     "execution_count": 38,
     "metadata": {},
     "output_type": "execute_result"
    }
   ],
   "source": [
    "np.hstack((a,b,c))"
   ]
  },
  {
   "cell_type": "code",
   "execution_count": 40,
   "id": "59517d28-7d7b-4964-ab41-90e2ddc1aa0d",
   "metadata": {},
   "outputs": [
    {
     "data": {
      "text/plain": [
       "array([[ 1,  2,  3,  4],\n",
       "       [ 5,  6,  7,  8],\n",
       "       [ 9, 10, 11, 12]])"
      ]
     },
     "execution_count": 40,
     "metadata": {},
     "output_type": "execute_result"
    }
   ],
   "source": [
    "np.vstack((a,b,c))"
   ]
  },
  {
   "cell_type": "code",
   "execution_count": null,
   "id": "02ca6afb-a3f3-465f-b017-022abc01c171",
   "metadata": {},
   "outputs": [],
   "source": []
  }
 ],
 "metadata": {
  "kernelspec": {
   "display_name": "Python 3 (ipykernel)",
   "language": "python",
   "name": "python3"
  },
  "language_info": {
   "codemirror_mode": {
    "name": "ipython",
    "version": 3
   },
   "file_extension": ".py",
   "mimetype": "text/x-python",
   "name": "python",
   "nbconvert_exporter": "python",
   "pygments_lexer": "ipython3",
   "version": "3.12.4"
  }
 },
 "nbformat": 4,
 "nbformat_minor": 5
}
